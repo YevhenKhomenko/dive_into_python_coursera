{
 "cells": [
  {
   "cell_type": "code",
   "execution_count": 6,
   "metadata": {},
   "outputs": [
    {
     "name": "stdout",
     "output_type": "stream",
     "text": [
      "get\n",
      "set\n",
      "del\n"
     ]
    }
   ],
   "source": [
    "class Descriptor:\n",
    "    def __get__(self, obj, obj_type):\n",
    "        print('get')\n",
    "        \n",
    "    def __set__(self, obj, value):\n",
    "        print('set')\n",
    "        \n",
    "    def __delete__(self, obj):\n",
    "        print('del')\n",
    "        \n",
    "class Class:\n",
    "    attr = Descriptor()\n",
    "    \n",
    "instance = Class()\n",
    "instance.attr\n",
    "instance.attr = 10\n",
    "del instance.attr"
   ]
  },
  {
   "cell_type": "code",
   "execution_count": 8,
   "metadata": {},
   "outputs": [
    {
     "name": "stdout",
     "output_type": "stream",
     "text": [
      "100\n",
      "100\n"
     ]
    }
   ],
   "source": [
    "class Value:\n",
    "    def __init__(self):\n",
    "        self.value = None\n",
    "    \n",
    "    @staticmethod\n",
    "    def _prepare_value(value):\n",
    "        return value * 10\n",
    "    \n",
    "    def __get__(self, obj, obj_type):\n",
    "        return self.value\n",
    "    \n",
    "    def __set__(self, obj, value):\n",
    "        self.value = self._prepare_value(value)\n",
    "        \n",
    "class Class:\n",
    "    attr = Value()\n",
    "    \n",
    "instance = Class()\n",
    "instance.attr = 10\n",
    "\n",
    "print(instance.attr)\n",
    "print(Class.attr)"
   ]
  },
  {
   "cell_type": "code",
   "execution_count": 9,
   "metadata": {},
   "outputs": [],
   "source": [
    "class User:\n",
    "    def __init__(self, first_name, last_name):\n",
    "        self.first_name = first_name\n",
    "        self.last_name = last_name\n",
    "        \n",
    "    @property\n",
    "    def full_name(self):\n",
    "        return f'{self.first_name} {self.last_name}'\n",
    "        "
   ]
  },
  {
   "cell_type": "code",
   "execution_count": 10,
   "metadata": {},
   "outputs": [
    {
     "name": "stdout",
     "output_type": "stream",
     "text": [
      "John Doe\n",
      "<property object at 0x7fca807f74f0>\n"
     ]
    }
   ],
   "source": [
    "user = User('John', 'Doe')\n",
    "print(user.full_name)\n",
    "print(User.full_name)"
   ]
  },
  {
   "cell_type": "code",
   "execution_count": 12,
   "metadata": {},
   "outputs": [
    {
     "name": "stdout",
     "output_type": "stream",
     "text": [
      "info\n",
      "other info\n",
      "<__main__.Property object at 0x7fca808043a0>\n",
      "<property object at 0x7fca807fe860>\n"
     ]
    }
   ],
   "source": [
    "class Property:\n",
    "    '''\n",
    "    Descriptor\n",
    "    '''\n",
    "    def __init__(self, getter):\n",
    "        self.getter = getter\n",
    "        \n",
    "    def __get__(self, obj, obj_type = None):\n",
    "        if obj is None:\n",
    "            return self\n",
    "        \n",
    "        return self.getter(obj)\n",
    "    \n",
    "class Class:\n",
    "    @Property\n",
    "    def info(self):\n",
    "        return 'info'\n",
    "    @property\n",
    "    def other_info(self):\n",
    "        return 'other info'\n",
    "    \n",
    "cls = Class()\n",
    "print(cls.info)\n",
    "print(cls.other_info)\n",
    "print(Class.info)\n",
    "print(Class.other_info)"
   ]
  },
  {
   "cell_type": "code",
   "execution_count": null,
   "metadata": {},
   "outputs": [],
   "source": []
  }
 ],
 "metadata": {
  "kernelspec": {
   "display_name": "Python 3",
   "language": "python",
   "name": "python3"
  },
  "language_info": {
   "codemirror_mode": {
    "name": "ipython",
    "version": 3
   },
   "file_extension": ".py",
   "mimetype": "text/x-python",
   "name": "python",
   "nbconvert_exporter": "python",
   "pygments_lexer": "ipython3",
   "version": "3.8.3"
  }
 },
 "nbformat": 4,
 "nbformat_minor": 4
}
