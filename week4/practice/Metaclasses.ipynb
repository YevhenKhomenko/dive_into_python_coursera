{
 "cells": [
  {
   "cell_type": "code",
   "execution_count": 1,
   "metadata": {},
   "outputs": [
    {
     "name": "stdout",
     "output_type": "stream",
     "text": [
      "Creating A\n"
     ]
    }
   ],
   "source": [
    "class Meta(type):\n",
    "    def __new__(cls, name, parents, attrs):\n",
    "        print(f'Creating {name}')\n",
    "        \n",
    "        if 'class_id' not in attrs:\n",
    "            attrs['class_id'] = name.lower()\n",
    "            \n",
    "        return super().__new__(cls, name, parents, attrs)\n",
    "    \n",
    "class A(metaclass=Meta):\n",
    "    pass\n"
   ]
  },
  {
   "cell_type": "code",
   "execution_count": 3,
   "metadata": {},
   "outputs": [
    {
     "name": "stdout",
     "output_type": "stream",
     "text": [
      "Initializing Base\n",
      "Initializing A\n",
      "Initializing B\n"
     ]
    }
   ],
   "source": [
    "class Meta(type):\n",
    "    '''\n",
    "    Переопределяет поведение __init__\n",
    "    при создании класса. Логирует все\n",
    "    созданные подклассы.\n",
    "    '''\n",
    "    def __init__(cls, name, bases, attrs):\n",
    "        print(f'Initializing {name}')\n",
    "        \n",
    "        if not hasattr(cls, 'registry'):\n",
    "            cls.registry = {}          \n",
    "        else:\n",
    "            cls.registry[name.lower()] = cls\n",
    "            \n",
    "        super().__init__(name, bases, attrs)\n",
    "        \n",
    "class Base(metaclass=Meta): pass\n",
    "class A(Base): pass\n",
    "class B(Base): pass\n",
    "\n",
    "\n",
    "            "
   ]
  },
  {
   "cell_type": "code",
   "execution_count": 6,
   "metadata": {},
   "outputs": [
    {
     "data": {
      "text/plain": [
       "mappingproxy({'__module__': '__main__',\n",
       "              '__dict__': <attribute '__dict__' of 'Base' objects>,\n",
       "              '__weakref__': <attribute '__weakref__' of 'Base' objects>,\n",
       "              '__doc__': None,\n",
       "              'registry': {'a': __main__.A, 'b': __main__.B}})"
      ]
     },
     "execution_count": 6,
     "metadata": {},
     "output_type": "execute_result"
    }
   ],
   "source": [
    "Base.__dict__\n"
   ]
  },
  {
   "cell_type": "code",
   "execution_count": null,
   "metadata": {},
   "outputs": [],
   "source": []
  }
 ],
 "metadata": {
  "kernelspec": {
   "display_name": "Python 3",
   "language": "python",
   "name": "python3"
  },
  "language_info": {
   "codemirror_mode": {
    "name": "ipython",
    "version": 3
   },
   "file_extension": ".py",
   "mimetype": "text/x-python",
   "name": "python",
   "nbconvert_exporter": "python",
   "pygments_lexer": "ipython3",
   "version": "3.8.3"
  }
 },
 "nbformat": 4,
 "nbformat_minor": 4
}
