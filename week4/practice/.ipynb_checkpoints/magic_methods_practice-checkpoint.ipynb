{
 "cells": [
  {
   "cell_type": "code",
   "execution_count": 6,
   "metadata": {},
   "outputs": [
    {
     "name": "stdout",
     "output_type": "stream",
     "text": [
      "{'name': 'Jane Doe', 'email': 'janedoe@example.com'}\n",
      "Jane Doe <janedoe@example.com>\n",
      "{'name': 'Joe Doe', 'email': 'joedoe@example.com'}\n",
      "Joe Doe <joedoe@example.com>\n",
      "False\n"
     ]
    }
   ],
   "source": [
    "class User:\n",
    "    def __init__(self, name, email):\n",
    "        self.name = name\n",
    "        self.email = email\n",
    "        \n",
    "    def __str__(self):\n",
    "        return f'{self.name} <{self.email}>'\n",
    "    \n",
    "    def __hash__(self):\n",
    "        return hash(self.email)\n",
    "    \n",
    "    def __eq__(self, other):\n",
    "        return self.email == other.email\n",
    "    \n",
    "    def get_email_data(self):\n",
    "        return {\n",
    "            'name' : self.name,\n",
    "            'email' : self.email\n",
    "        }\n",
    "    \n",
    "jane = User('Jane Doe', 'janedoe@example.com')\n",
    "print(jane.get_email_data())\n",
    "print(str(jane))\n",
    "joe = User('Joe Doe', 'joedoe@example.com')\n",
    "print(joe.get_email_data())\n",
    "print(str(joe))\n",
    "print(joe == jane)"
   ]
  },
  {
   "cell_type": "code",
   "execution_count": 3,
   "metadata": {},
   "outputs": [
    {
     "data": {
      "text/plain": [
       "True"
      ]
     },
     "execution_count": 3,
     "metadata": {},
     "output_type": "execute_result"
    }
   ],
   "source": [
    "class Singleton:\n",
    "    instance = None\n",
    "    \n",
    "    def __new__(cls):\n",
    "        if cls.instance is None:\n",
    "            cls.instance = super().__new__(cls)\n",
    "            \n",
    "        return cls.instance\n",
    "a = Singleton()\n",
    "b = Singleton()\n",
    "a is b"
   ]
  },
  {
   "cell_type": "code",
   "execution_count": 10,
   "metadata": {},
   "outputs": [
    {
     "name": "stdout",
     "output_type": "stream",
     "text": [
      "Log was made\n",
      "Doing stuff in func\n",
      "['Some log']\n"
     ]
    }
   ],
   "source": [
    "class Logger:\n",
    "    def __init__(self):\n",
    "        self.log = []\n",
    "    \n",
    "    def __call__(self, func):\n",
    "        def inner(*args, **kwargs):\n",
    "            self.log.append(\"Some log\")\n",
    "            print(\"Log was made\")\n",
    "            return func(*args, **kwargs)\n",
    "        return inner\n",
    "    \n",
    "    def get_log(self):\n",
    "        return self.log\n",
    "\n",
    "logger = Logger()\n",
    "\n",
    "@logger\n",
    "def some_func():\n",
    "    print(\"Doing stuff in func\")\n",
    "\n",
    "some_func()\n",
    "print(logger.get_log())\n",
    "        "
   ]
  },
  {
   "cell_type": "code",
   "execution_count": 17,
   "metadata": {},
   "outputs": [
    {
     "name": "stdout",
     "output_type": "stream",
     "text": [
      "Set 1 at index 0\n",
      "['1']\n",
      "Set 2 at index 1\n",
      "['1', '2']\n",
      "Got 1 at index 0\n",
      "1\n",
      "IndexError\n",
      "None\n"
     ]
    }
   ],
   "source": [
    "class Container():\n",
    "    def __init__(self, list_ = None):\n",
    "        self.container = list_ or []\n",
    "    \n",
    "    def __getitem__(self, index):\n",
    "        try:\n",
    "            ret_val = self.container[index]\n",
    "        except IndexError:\n",
    "            print('IndexError')\n",
    "            return None\n",
    "        print(f'Got {ret_val} at index {index}')\n",
    "        return ret_val\n",
    "    \n",
    "    def __setitem__(self, index, val):\n",
    "        self.container.insert(index, val)\n",
    "        print(f'Set {val} at index {index}')\n",
    "        print(self.container)\n",
    "    \n",
    "container = Container()\n",
    "container[0] = '1'\n",
    "container[1] = '2'\n",
    "print(container[0])\n",
    "print(container[3])\n"
   ]
  },
  {
   "cell_type": "code",
   "execution_count": null,
   "metadata": {},
   "outputs": [],
   "source": []
  }
 ],
 "metadata": {
  "kernelspec": {
   "display_name": "Python 3",
   "language": "python",
   "name": "python3"
  },
  "language_info": {
   "codemirror_mode": {
    "name": "ipython",
    "version": 3
   },
   "file_extension": ".py",
   "mimetype": "text/x-python",
   "name": "python",
   "nbconvert_exporter": "python",
   "pygments_lexer": "ipython3",
   "version": "3.8.3"
  }
 },
 "nbformat": 4,
 "nbformat_minor": 4
}
