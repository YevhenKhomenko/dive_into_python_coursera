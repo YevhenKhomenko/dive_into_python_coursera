{
 "cells": [
  {
   "cell_type": "code",
   "execution_count": 3,
   "metadata": {},
   "outputs": [
    {
     "name": "stdout",
     "output_type": "stream",
     "text": [
      "[<Future at 0x7fd0ec74bb50 state=finished returned int>, <Future at 0x7fd0ec74bf70 state=finished returned int>, <Future at 0x7fd0ec757820 state=finished returned int>, <Future at 0x7fd0ec743bb0 state=finished returned int>, <Future at 0x7fd0ec6e94f0 state=finished returned int>, <Future at 0x7fd0ec757cd0 state=finished returned int>, <Future at 0x7fd0ec743850 state=pending>, <Future at 0x7fd0ec71a700 state=pending>, <Future at 0x7fd0ec757670 state=pending>, <Future at 0x7fd0ec757f70 state=pending>]\n",
      "<Future at 0x7fd0ec743bb0 state=finished returned int>\n",
      "9\n",
      "<Future at 0x7fd0ec74bf70 state=finished returned int>\n",
      "1\n",
      "<Future at 0x7fd0ec74bb50 state=finished returned int>\n",
      "0\n",
      "<Future at 0x7fd0ec6e94f0 state=finished returned int>\n",
      "16\n",
      "<Future at 0x7fd0ec757cd0 state=finished returned int>\n",
      "25\n",
      "<Future at 0x7fd0ec757820 state=finished returned int>\n",
      "4\n",
      "<Future at 0x7fd0ec743850 state=finished returned int>\n",
      "36\n",
      "<Future at 0x7fd0ec71a700 state=finished returned int>\n",
      "49\n",
      "<Future at 0x7fd0ec757670 state=finished returned int>\n",
      "64\n",
      "<Future at 0x7fd0ec757f70 state=finished returned int>\n",
      "81\n"
     ]
    }
   ],
   "source": [
    "from concurrent.futures import ThreadPoolExecutor, as_completed\n",
    "\n",
    "def f(a):\n",
    "    return a * a\n",
    "# .shutdown() in __exit__\n",
    "with ThreadPoolExecutor(max_workers=3) as pool:\n",
    "    results = [pool.submit(f, i) for i in range(10)]\n",
    "    print(results)\n",
    "    \n",
    "    for future in as_completed(results):\n",
    "        print(future)\n",
    "        print(future.result())"
   ]
  },
  {
   "cell_type": "code",
   "execution_count": null,
   "metadata": {},
   "outputs": [],
   "source": []
  }
 ],
 "metadata": {
  "kernelspec": {
   "display_name": "Python 3",
   "language": "python",
   "name": "python3"
  },
  "language_info": {
   "codemirror_mode": {
    "name": "ipython",
    "version": 3
   },
   "file_extension": ".py",
   "mimetype": "text/x-python",
   "name": "python",
   "nbconvert_exporter": "python",
   "pygments_lexer": "ipython3",
   "version": "3.8.3"
  }
 },
 "nbformat": 4,
 "nbformat_minor": 4
}
